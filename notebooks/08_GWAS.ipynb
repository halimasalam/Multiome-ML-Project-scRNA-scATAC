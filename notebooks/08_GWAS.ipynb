{
 "cells": [
  {
   "cell_type": "code",
   "execution_count": 17,
   "id": "d020db2a-4637-41b0-869a-6f600f466a81",
   "metadata": {},
   "outputs": [],
   "source": [
    "# Imports\n",
    "import pandas as pd\n",
    "import numpy as np\n",
    "import pyranges as pr\n",
    "import matplotlib.pyplot as plt\n",
    "import seaborn as sns\n",
    "import scanpy as sc\n",
    "\n",
    "# Load scATAC peak files (annotated by cell type)\n",
    "# If not saved yet, extract them from your AnnData object here\n"
   ]
  },
  {
   "cell_type": "code",
   "execution_count": 12,
   "id": "068a5ce7-d243-4a21-9aee-ef05d5cb03ea",
   "metadata": {},
   "outputs": [],
   "source": [
    "# Load top genes\n",
    "importance_df = pd.read_csv(\"results/files/feature_importance.csv\")\n",
    "# Keep only gene names\n",
    "importance_df[\"Gene\"] = importance_df[\"Feature\"].apply(lambda x: x.replace(\"_RNA\", \"\").replace(\"_ATAC\", \"\"))\n",
    "\n",
    "# Drop duplicates in case the same gene appears for both modalities\n",
    "top_genes = importance_df[\"Gene\"].drop_duplicates().head(100).tolist()\n",
    "\n"
   ]
  },
  {
   "cell_type": "code",
   "execution_count": null,
   "id": "65dc832a-f16d-4088-9709-ad64180bead5",
   "metadata": {},
   "outputs": [],
   "source": [
    "import pandas as pd\n",
    "\n",
    "# Load manually downloaded file\n",
    "df = pd.read_csv(\"alzheimers_gwas.tsv\", sep=\"\\t\")\n",
    "\n",
    "# View rsIDs and mapped genes\n",
    "print(df.columns)\n",
    "print(df[['SNPS', 'MAPPED_GENE']].head())\n",
    "\n",
    "# Clean rsIDs\n",
    "rsids = df['SNPS'].dropna().unique().tolist()\n",
    "\n",
    "# Extract gene symbols\n",
    "mapped_genes = set()\n",
    "for genes in df['MAPPED_GENE'].dropna():\n",
    "    for gene in genes.split(','):\n",
    "        if gene.strip() != 'NR':  # 'NR' = not reported\n",
    "            mapped_genes.add(gene.strip())\n",
    "\n",
    "print(f\"✅ Extracted {len(mapped_genes)} unique genes from Alzheimer's GWAS file.\")\n"
   ]
  },
  {
   "cell_type": "code",
   "execution_count": null,
   "id": "cabde323-7f49-407d-8963-e76923a71465",
   "metadata": {},
   "outputs": [],
   "source": []
  },
  {
   "cell_type": "code",
   "execution_count": null,
   "id": "8b13e5f2-709c-441c-ac03-ac25ff3d915e",
   "metadata": {},
   "outputs": [],
   "source": [
    "ad_gwas_genes = [\n",
    "    \"APOE\", \"BIN1\", \"CLU\", \"PICALM\", \"ABCA7\", \"CR1\", \"TREM2\",\n",
    "    \"CD33\", \"MS4A6A\", \"INPP5D\", \"MEF2C\", \"SORL1\", \"PLCG2\"\n",
    "]\n",
    "\n",
    "ad_hits_in_classifier = set(top_genes).intersection(mapped_genes)\n",
    "print(f\"Overlap with AD GWAS genes: {len(ad_hits_in_classifier)}\")\n",
    "print(\"Genes:\", ad_hits_in_classifier)"
   ]
  },
  {
   "cell_type": "code",
   "execution_count": null,
   "id": "8abfcca5-c360-4690-86e6-29b4822d3217",
   "metadata": {},
   "outputs": [],
   "source": [
    "# Export \n",
    "pd.Series(list(ad_hits_in_classifier)).to_csv(\"results/files/ad_classifier_overlap.csv\", index=False)\n",
    "\n",
    "# overlay them in UMAP if genes are RNA features\n",
    "sc.pl.umap(adata, color=list(ad_hits_in_classifier), cmap=\"viridis\", frameon=False)\n"
   ]
  }
 ],
 "metadata": {
  "kernelspec": {
   "display_name": "Python 3 (ipykernel)",
   "language": "python",
   "name": "python3"
  },
  "language_info": {
   "codemirror_mode": {
    "name": "ipython",
    "version": 3
   },
   "file_extension": ".py",
   "mimetype": "text/x-python",
   "name": "python",
   "nbconvert_exporter": "python",
   "pygments_lexer": "ipython3",
   "version": "3.12.2"
  }
 },
 "nbformat": 4,
 "nbformat_minor": 5
}
