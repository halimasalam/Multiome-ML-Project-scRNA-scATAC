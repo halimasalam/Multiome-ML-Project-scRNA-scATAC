{
 "cells": [
  {
   "cell_type": "code",
   "execution_count": null,
   "id": "6e2fb809-6ac3-4901-9172-8b3029f5ca30",
   "metadata": {},
   "outputs": [],
   "source": [
    "# Notebook 3: Generate ATAC AnnData Matrix \n",
    "# ATAC Processing: Build Peak × Cell Matrix from Fragments Filtered by RNA Barcodes"
   ]
  },
  {
   "cell_type": "code",
   "execution_count": 1,
   "id": "fa928998-a016-4011-a7dd-2a532c3a6ac2",
   "metadata": {},
   "outputs": [],
   "source": [
    "\n",
    "import os\n",
    "import pandas as pd\n",
    "import numpy as np\n",
    "import anndata as ad\n",
    "from scipy.sparse import lil_matrix, csr_matrix\n",
    "import pyranges as pr\n"
   ]
  },
  {
   "cell_type": "code",
   "execution_count": 4,
   "id": "40019dc6-ff66-4d08-826b-94ac8a19b1dc",
   "metadata": {},
   "outputs": [],
   "source": [
    "\n",
    "# Load filtered RNA barcodes (already QC-filtered and annotated)\n",
    "rna_adata = ad.read_h5ad(\"results/files/ag_rna_final_cleaned_annotated.h5ad\")\n",
    "filtered_barcodes = set(rna_adata.obs_names)\n",
    "\n",
    "# Load ATAC fragments and filter to RNA barcodes\n",
    "fragments_path = \"data/10k_PBMC_Multiome_nextgem_Chromium_X_atac_fragments.tsv.gz\"\n",
    "fragments_df = pd.read_csv(fragments_path, sep=\"\\t\", header=None, comment=\"#\")\n",
    "fragments_df.columns = ['chrom', 'start', 'end', 'barcode', 'count']\n",
    "fragments_df = fragments_df[fragments_df['barcode'].isin(filtered_barcodes)].copy()\n",
    "\n",
    "# Load ATAC peak regions (BED file)\n",
    "peaks_path = \"data/10k_PBMC_Multiome_nextgem_Chromium_X_atac_peaks.bed\"\n",
    "peaks_df = pd.read_csv(peaks_path, sep=\"\\t\", header=None, comment=\"#\")\n",
    "peaks_df.columns = ['chrom', 'start', 'end']\n",
    "peaks_df['peak_id'] = ['peak_' + str(i) for i in range(len(peaks_df))]\n",
    "\n",
    "# Intersect fragments with peaks using PyRanges\n",
    "fragments_df.rename(columns={\"chrom\": \"Chromosome\", \"start\": \"Start\", \"end\": \"End\"}, inplace=True)\n",
    "peaks_df.rename(columns={\"chrom\": \"Chromosome\", \"start\": \"Start\", \"end\": \"End\"}, inplace=True)\n",
    "\n",
    "fragments_pr = pr.PyRanges(fragments_df[[\"Chromosome\", \"Start\", \"End\", \"barcode\"]])\n",
    "peaks_pr = pr.PyRanges(peaks_df)\n",
    "\n",
    "# Perform intersection\n",
    "overlap = fragments_pr.join(peaks_pr)\n",
    "fragments_mapped = overlap.df[[\"Start\", \"End\", \"Chromosome\", \"barcode\"]].copy()\n",
    "fragments_mapped[\"peak_id\"] = overlap.df[\"peak_id\"].values\n",
    "\n",
    "# Build peak-by-cell matrix\n",
    "unique_barcodes = sorted(fragments_mapped['barcode'].unique())\n",
    "barcode_to_index = {bc: i for i, bc in enumerate(unique_barcodes)}\n",
    "peak_to_index = {pid: i for i, pid in enumerate(peaks_df['peak_id'])}\n",
    "\n",
    "num_cells = len(unique_barcodes)\n",
    "num_peaks = len(peaks_df)\n",
    "atac_matrix = lil_matrix((num_cells, num_peaks), dtype=np.int32)\n",
    "\n",
    "for row in fragments_mapped.itertuples(index=False):\n",
    "    bc_idx = barcode_to_index[row.barcode]\n",
    "    peak_idx = peak_to_index[row.peak_id]\n",
    "    atac_matrix[bc_idx, peak_idx] += 1\n",
    "\n",
    "# Convert to CSR format\n",
    "atac_matrix_csr = atac_matrix.tocsr()\n",
    "\n",
    "# Create ATAC AnnData object\n",
    "atac_adata = ad.AnnData(X=atac_matrix_csr)\n",
    "atac_adata.obs_names = pd.Index(unique_barcodes, name=\"barcode\")\n",
    "atac_adata.var_names = pd.Index(peaks_df[\"peak_id\"].astype(str), name=\"peak_id\")\n",
    "\n",
    "# Save to disk\n",
    "atac_adata.write(\"results/files/ag_atac_matrix.h5ad\")\n"
   ]
  },
  {
   "cell_type": "code",
   "execution_count": null,
   "id": "773d7161-8756-4f4c-8dec-17ad176a640a",
   "metadata": {},
   "outputs": [],
   "source": []
  }
 ],
 "metadata": {
  "kernelspec": {
   "display_name": "Python 3 (ipykernel)",
   "language": "python",
   "name": "python3"
  },
  "language_info": {
   "codemirror_mode": {
    "name": "ipython",
    "version": 3
   },
   "file_extension": ".py",
   "mimetype": "text/x-python",
   "name": "python",
   "nbconvert_exporter": "python",
   "pygments_lexer": "ipython3",
   "version": "3.12.2"
  }
 },
 "nbformat": 4,
 "nbformat_minor": 5
}
