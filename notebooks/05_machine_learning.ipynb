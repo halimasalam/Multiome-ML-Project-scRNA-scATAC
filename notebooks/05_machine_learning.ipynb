{
 "cells": [
  {
   "cell_type": "code",
   "execution_count": 1,
   "id": "721c41f4-dcc4-4b6a-8e1a-34741b36046a",
   "metadata": {},
   "outputs": [
    {
     "name": "stdout",
     "output_type": "stream",
     "text": [
      "1280 common genes found.\n"
     ]
    }
   ],
   "source": [
    "# ML Input Preparation (RNA + ATAC Gene Activity)\n",
    "\n",
    "import anndata as ad\n",
    "import numpy as np\n",
    "import pandas as pd\n",
    "from sklearn.preprocessing import StandardScaler\n",
    "\n",
    "# Load processed RNA and gene activity AnnData\n",
    "rna_adata = ad.read_h5ad(\"results/files/ag_rna_annotated_cleaned.h5ad\")\n",
    "gene_activity = ad.read_h5ad(\"results/files/ag_gene_activity.h5ad\")\n",
    "\n",
    "# Confirm matching cells\n",
    "assert all(rna_adata.obs_names == gene_activity.obs_names)\n",
    "\n",
    "# Match gene names (intersection)\n",
    "common_genes = rna_adata.var_names.intersection(gene_activity.var_names)\n",
    "print(f\"{len(common_genes)} common genes found.\")\n",
    "\n",
    "# Subset to common genes\n",
    "rna_common = rna_adata[:, common_genes].copy()\n",
    "atac_common = gene_activity[:, common_genes].copy()\n",
    "\n",
    "common_genes = rna_common.var_names.intersection(atac_common.var_names).sort_values()\n",
    "\n",
    "feature_names_rna = [f\"{gene}_RNA\" for gene in rna_common[:, common_genes].var_names]\n",
    "feature_names_atac = [f\"{gene}_ATAC\" for gene in atac_common[:, common_genes].var_names]\n",
    "feature_names = feature_names_rna + feature_names_atac\n",
    "\n",
    "rna_scaled = StandardScaler().fit_transform(rna_common[:, common_genes].X.toarray())\n",
    "atac_scaled = StandardScaler().fit_transform(atac_common[:, common_genes].X.toarray())\n",
    "X_combined = np.hstack([rna_scaled, atac_scaled])\n",
    "\n",
    "# Get cell type labels\n",
    "y = rna_adata.obs['cell_type'].values\n",
    "\n",
    "# # Save combined data and labels\n",
    "np.save(\"results/files/ag_X_combined.npy\", X_combined)\n",
    "np.save(\"results/files/ag_y_labels.npy\", y)\n",
    "\n",
    "# Also save as DataFrame for better downstream use\n",
    "X_df = pd.DataFrame(X_combined, columns=feature_names)\n",
    "X_df['cell_type'] = y \n",
    "X_df.to_csv(\"results/files/ag_X_combined_with_labels.csv\", index=False)\n",
    "pd.Series(feature_names).to_csv(\"results/files/ag_feature_names.csv\", index=False, header=False)\n"
   ]
  },
  {
   "cell_type": "code",
   "execution_count": null,
   "id": "e9ce0f19-ea05-41c0-9e8c-582cdb068eb8",
   "metadata": {},
   "outputs": [],
   "source": []
  }
 ],
 "metadata": {
  "kernelspec": {
   "display_name": "Python 3 (ipykernel)",
   "language": "python",
   "name": "python3"
  },
  "language_info": {
   "codemirror_mode": {
    "name": "ipython",
    "version": 3
   },
   "file_extension": ".py",
   "mimetype": "text/x-python",
   "name": "python",
   "nbconvert_exporter": "python",
   "pygments_lexer": "ipython3",
   "version": "3.12.2"
  }
 },
 "nbformat": 4,
 "nbformat_minor": 5
}
