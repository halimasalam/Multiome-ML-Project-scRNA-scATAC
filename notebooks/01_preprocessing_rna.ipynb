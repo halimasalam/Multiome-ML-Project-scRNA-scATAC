{
 "cells": [
  {
   "cell_type": "code",
   "execution_count": null,
   "id": "629418d5-a7c0-44dd-a733-0aa6fb653f4a",
   "metadata": {},
   "outputs": [],
   "source": [
    "# Notebook 1: scRNA-seq Preprocessing and Subsetting\n"
   ]
  },
  {
   "cell_type": "code",
   "execution_count": null,
   "id": "eee3bbf3-0941-4240-8e0b-a9b78d82171e",
   "metadata": {},
   "outputs": [],
   "source": [
    "import scanpy as sc\n",
    "import pandas as pd\n",
    "import numpy as np\n",
    "import anndata as ad\n",
    "from scipy.sparse import csr_matrix\n",
    "\n",
    "# Load 10x Genomics h5 file\n",
    "adata = sc.read_10x_h5(\n",
    "    \"data/10k_PBMC_Multiome_nextgem_Chromium_X_filtered_feature_bc_matrix.h5\"\n",
    ")\n",
    "adata.var_names_make_unique()\n",
    "\n",
    "# Keep only RNA modality (for multiome files)\n",
    "if 'feature_types' in adata.var.columns:\n",
    "    rna_mask = adata.var['feature_types'] == 'Gene Expression'\n",
    "    adata = adata[:, rna_mask]\n",
    "\n",
    "# Calculate QC metrics\n",
    "# Total UMI counts per cell\n",
    "adata.obs['n_counts'] = adata.X.sum(axis=1).A1\n",
    "\n",
    "# Number of genes detected per cell\n",
    "adata.obs['n_genes_by_counts'] = (adata.X > 0).sum(1).A1\n",
    "\n",
    "# Percent mitochondrial gene content\n",
    "adata.var['mt'] = adata.var_names.str.upper().str.startswith('MT-')\n",
    "adata.obs['pct_counts_mt'] = (\n",
    "    adata[:, adata.var['mt']].X.sum(1).A1 / adata.obs['n_counts']\n",
    ") * 100\n",
    "\n",
    "# Filter low-quality cells\n",
    "# Criteria: min total counts > 1000, pct mitochondrial < 10%, > 200 genes expressed\n",
    "cell_filter = (\n",
    "    (adata.obs['n_counts'] > 1000) &\n",
    "    (adata.obs['pct_counts_mt'] < 10) &\n",
    "    (adata.obs['n_genes_by_counts'] > 200)\n",
    ")\n",
    "adata_filtered = adata[cell_filter].copy()\n",
    "\n",
    "# Filter low-quality genes\n",
    "sc.pp.filter_genes(adata_filtered, min_cells=3)\n",
    "\n",
    "# Subsample to 4000 cells (optional)\n",
    "if adata_filtered.n_obs > 4000:\n",
    "    sampled_indices = adata_filtered.obs.sample(n=4000, random_state=42).index\n",
    "    adata_final = adata_filtered[sampled_indices].copy()\n",
    "else:\n",
    "    adata_final = adata_filtered\n",
    "\n",
    "# Save preprocessed RNA data\n",
    "adata_final.write(\n",
    "    \"data/ag_filtered_rna_subset.h5ad\"\n",
    ")\n",
    "print(f\"Saved filtered RNA subset with {adata_final.shape[0]} cells and {adata_final.shape[1]} genes.\")\n"
   ]
  }
 ],
 "metadata": {
  "kernelspec": {
   "display_name": "Python 3 (ipykernel)",
   "language": "python",
   "name": "python3"
  },
  "language_info": {
   "codemirror_mode": {
    "name": "ipython",
    "version": 3
   },
   "file_extension": ".py",
   "mimetype": "text/x-python",
   "name": "python",
   "nbconvert_exporter": "python",
   "pygments_lexer": "ipython3",
   "version": "3.12.2"
  }
 },
 "nbformat": 4,
 "nbformat_minor": 5
}
