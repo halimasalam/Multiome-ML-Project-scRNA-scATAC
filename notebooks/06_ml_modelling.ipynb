{
 "cells": [
  {
   "cell_type": "code",
   "execution_count": 2,
   "id": "30affc9c-4772-453d-9cf8-29a8fd0ad261",
   "metadata": {},
   "outputs": [],
   "source": [
    "# ML Classifier: Predict Cell Types from RNA+ATAC\n",
    "\n",
    "import pandas as pd\n",
    "import numpy as np\n",
    "import matplotlib.pyplot as plt\n",
    "import seaborn as sns\n",
    "from sklearn.model_selection import train_test_split, StratifiedKFold, RandomizedSearchCV\n",
    "from sklearn.metrics import classification_report, confusion_matrix, ConfusionMatrixDisplay, f1_score\n",
    "from xgboost import XGBClassifier\n",
    "from sklearn.preprocessing import LabelEncoder\n",
    "import joblib\n",
    "import json\n",
    "from collections import Counter\n",
    "\n"
   ]
  },
  {
   "cell_type": "code",
   "execution_count": null,
   "id": "6b29f70e-87f7-44e6-bb76-88d9e4881a52",
   "metadata": {},
   "outputs": [],
   "source": [
    "# Load data\n",
    "file_path = \"results/files/ag_X_combined_with_labels.csv\"\n",
    "df = pd.read_csv(file_path)\n",
    "X = df.drop(columns=['cell_type'])\n",
    "y = df['cell_type']\n",
    "\n",
    "# Encode labels\n",
    "le = LabelEncoder()\n",
    "y_encoded = le.fit_transform(y)\n",
    "print(\"Label mapping:\", dict(zip(le.classes_, le.transform(le.classes_))))\n",
    "\n",
    "# Save label encoder\n",
    "joblib.dump(le, \"results/files/ag_label_encoder.pkl\")\n"
   ]
  },
  {
   "cell_type": "code",
   "execution_count": null,
   "id": "ce020972-afb3-4e22-9ae6-7f76c17f1094",
   "metadata": {},
   "outputs": [],
   "source": [
    "# Split data\n",
    "X_train, X_test, y_train, y_test = train_test_split(X, y_encoded, test_size=0.2, stratify=y_encoded, random_state=42)\n",
    "print(\"Train class distribution:\", Counter(y_train))\n",
    "print(\"Test class distribution:\", Counter(y_test))\n",
    "\n",
    "# Define model\n",
    "xgb_clf = XGBClassifier(eval_metric='mlogloss', random_state=42)\n",
    "\n",
    "# Hyperparameter search\n",
    "param_dist = {\n",
    "    'n_estimators': [100, 200, 300],\n",
    "    'max_depth': [3, 5, 7],\n",
    "    'learning_rate': [0.01, 0.1, 0.2],\n",
    "    'subsample': [0.8, 1.0],\n",
    "    'colsample_bytree': [0.8, 1.0]\n",
    "}\n",
    "\n",
    "random_search = RandomizedSearchCV(\n",
    "    estimator=xgb_clf,\n",
    "    param_distributions=param_dist,\n",
    "    n_iter=20,\n",
    "    scoring='accuracy',\n",
    "    cv=3,\n",
    "    verbose=1,\n",
    "    n_jobs=-1,\n",
    "    random_state=42\n",
    ")\n",
    "random_search.fit(X_train, y_train)\n",
    "\n",
    "print(\"Best Parameters:\", random_search.best_params_)\n",
    "print(\"Best CV Accuracy:\", random_search.best_score_)"
   ]
  },
  {
   "cell_type": "code",
   "execution_count": null,
   "id": "6f1862ff-79d1-495e-b5a1-6fbc1b391cc1",
   "metadata": {},
   "outputs": [],
   "source": [
    "# Evaluate best model on test set\n",
    "best_model = random_search.best_estimator_\n",
    "y_pred = best_model.predict(X_test)\n",
    "y_pred_labels = le.inverse_transform(y_pred)\n",
    "\n",
    "report_dict = classification_report(y_test, y_pred, target_names=le.classes_, output_dict=True)\n",
    "print(\"\\nClassification Report:\")\n",
    "print(classification_report(y_test, y_pred, target_names=le.classes_))\n",
    "\n",
    "# Save model and results\n",
    "joblib.dump(best_model, \"results/files/ag_xgb_best_model.pkl\")\n",
    "np.save(\"results/files/ag_y_pred.npy\", y_pred)\n",
    "np.save(\"results/files/ag_y_test.npy\", y_test)\n",
    "\n",
    "with open(\"results/files/ag_classification_report.json\", \"w\") as f:\n",
    "    json.dump(report_dict, f, indent=2)\n"
   ]
  },
  {
   "cell_type": "code",
   "execution_count": null,
   "id": "64359c32-58a5-427c-9626-7a37bae902bf",
   "metadata": {},
   "outputs": [],
   "source": [
    "# Train on full data for annotation\n",
    "best_model_full = random_search.best_estimator_\n",
    "best_model_full.fit(X, y_encoded)\n",
    "\n",
    "joblib.dump(best_model_full, \"results/files/ag_xgb_model_full_data.pkl\")\n",
    "y_pred_full = best_model_full.predict(X)\n",
    "np.save(\"results/files/ag_y_pred_full.npy\", y_pred_full)\n",
    "\n",
    "y_proba_full = best_model_full.predict_proba(X)\n",
    "np.save(\"results/files/ag_y_proba_full.npy\", y_proba_full)\n",
    "\n",
    "# Confusion Matrix\n",
    "plt.figure(figsize=(15, 8))\n",
    "cm = confusion_matrix(y_test, y_pred, normalize='true')\n",
    "disp = ConfusionMatrixDisplay(confusion_matrix=cm, display_labels=le.classes_)\n",
    "disp.plot(xticks_rotation=90, cmap='Blues')\n",
    "plt.title(\"Normalized Confusion Matrix\")\n",
    "plt.tight_layout()\n",
    "plt.savefig(\"results/plots/ag_confusion_matrix.png\")\n",
    "plt.show()\n"
   ]
  },
  {
   "cell_type": "code",
   "execution_count": null,
   "id": "349418ab-769b-4c6e-be58-7dc9935a34a0",
   "metadata": {},
   "outputs": [],
   "source": [
    "# Class Probability Distributions\n",
    "y_proba = best_model.predict_proba(X_test)\n",
    "plt.figure(figsize=(12, 6))\n",
    "for i in range(len(le.classes_)):\n",
    "    sns.kdeplot(y_proba[:, i], label=le.classes_[i], fill=True, alpha=0.4)\n",
    "plt.title(\"Class Probability Distributions\")\n",
    "plt.xlabel(\"Predicted Probability\")\n",
    "plt.legend()\n",
    "plt.tight_layout()\n",
    "plt.savefig(\"results/plots/ag_class_probability_distribution.png\")\n",
    "plt.show()"
   ]
  },
  {
   "cell_type": "code",
   "execution_count": 10,
   "id": "55e10da6-e956-47de-bb39-e4fc577df6b5",
   "metadata": {},
   "outputs": [],
   "source": [
    "# Feature Importance\n",
    "importances = best_model.feature_importances_\n",
    "feature_names = X.columns\n",
    "importance_df = pd.DataFrame({\n",
    "    'Feature': feature_names,\n",
    "    'Importance': importances,\n",
    "    'Modality': ['RNA' if '_RNA' in f else 'ATAC' for f in feature_names]\n",
    "}).sort_values(by='Importance', ascending=False)\n",
    "\n",
    "importance_df.to_csv(\"results/files/ag_feature_importance.csv\", index=False)\n"
   ]
  },
  {
   "cell_type": "code",
   "execution_count": null,
   "id": "3f17b447-acec-4bcf-a267-f732e3382ef6",
   "metadata": {},
   "outputs": [],
   "source": [
    "# Top 20 Features\n",
    "plt.figure(figsize=(8, 6))\n",
    "sns.barplot(x='Importance', y='Feature', data=importance_df.head(20))\n",
    "plt.title(\"Top 20 Feature Importances\")\n",
    "plt.tight_layout()\n",
    "plt.savefig(\"results/plots/ag_feature_importance_top20.png\")\n",
    "plt.show()\n",
    "\n",
    "# Modality-level Feature Importance\n",
    "modality_importance = importance_df.groupby('Modality')['Importance'].sum().reset_index()\n",
    "plt.figure(figsize=(6, 4))\n",
    "sns.barplot(data=modality_importance, x='Modality', y='Importance')\n",
    "plt.title(\"Total Feature Importance by Modality\")\n",
    "plt.tight_layout()\n",
    "plt.savefig(\"results/plots/ag_modality_feature_importance.png\")\n",
    "plt.show()"
   ]
  },
  {
   "cell_type": "code",
   "execution_count": null,
   "id": "e0e78371-8108-413a-86bb-852aa9b208e2",
   "metadata": {},
   "outputs": [],
   "source": []
  }
 ],
 "metadata": {
  "kernelspec": {
   "display_name": "Python 3 (ipykernel)",
   "language": "python",
   "name": "python3"
  },
  "language_info": {
   "codemirror_mode": {
    "name": "ipython",
    "version": 3
   },
   "file_extension": ".py",
   "mimetype": "text/x-python",
   "name": "python",
   "nbconvert_exporter": "python",
   "pygments_lexer": "ipython3",
   "version": "3.12.2"
  }
 },
 "nbformat": 4,
 "nbformat_minor": 5
}
