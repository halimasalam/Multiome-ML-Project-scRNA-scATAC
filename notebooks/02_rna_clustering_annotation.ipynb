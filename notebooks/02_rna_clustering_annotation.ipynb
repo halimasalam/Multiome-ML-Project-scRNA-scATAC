{
 "cells": [
  {
   "cell_type": "code",
   "execution_count": null,
   "id": "f92b6607-beee-453a-bdf8-43fadab5e50d",
   "metadata": {},
   "outputs": [],
   "source": [
    "# Notebook 2: RNA Clustering, Marker Genes, and Cell Type Annotation"
   ]
  },
  {
   "cell_type": "code",
   "execution_count": 1,
   "id": "5f2afb07-258e-4b3f-a490-40b2eb4b5017",
   "metadata": {},
   "outputs": [],
   "source": [
    "import scanpy as sc\n",
    "import pandas as pd\n",
    "import matplotlib.pyplot as plt\n",
    "import seaborn as sns\n",
    "import numpy as np"
   ]
  },
  {
   "cell_type": "code",
   "execution_count": 2,
   "id": "a187402d-96b2-461a-94fe-c5de639e1d04",
   "metadata": {},
   "outputs": [],
   "source": [
    "\n",
    "# Load preprocessed RNA data\n",
    "adata = sc.read_h5ad(\"data/filtered_rna_subset.h5ad\")\n",
    "\n",
    "# Normalize and log-transform\n",
    "sc.pp.normalize_total(adata, target_sum=1e4)\n",
    "sc.pp.log1p(adata)\n",
    "\n",
    "# Check total counts before and after\n",
    "adata.obs['total_counts_post'] = adata.X.sum(1).A1\n",
    "\n",
    "plt.figure(figsize=(8, 4))\n",
    "sns.histplot(adata.obs['total_counts_post'], bins=50)\n",
    "plt.title(\"Total Counts per Cell After Normalization\")\n",
    "plt.xlabel(\"Total Counts\")\n",
    "plt.tight_layout()\n",
    "plt.savefig(\"results/plots/ag_total_counts_post_norm.png\", dpi=300)\n",
    "plt.close()"
   ]
  },
  {
   "cell_type": "code",
   "execution_count": 22,
   "id": "e764bef7-e3de-4984-900b-b2b074323264",
   "metadata": {},
   "outputs": [],
   "source": [
    "\n",
    "# Highly Variable Genes\n",
    "\n",
    "# Add mitochondrial gene content and other QC metrics\n",
    "adata.var['mt'] = adata.var_names.str.upper().str.startswith('MT-')  # for human MT-CO1, MT-ND1 etc.\n",
    "\n",
    "sc.pp.calculate_qc_metrics(\n",
    "    adata,\n",
    "    qc_vars=['mt'],\n",
    "    percent_top=None,\n",
    "    log1p=False,\n",
    "    inplace=True\n",
    ")\n",
    "\n",
    "sc.pp.highly_variable_genes(adata, flavor=\"seurat\", n_top_genes=2000)\n",
    "sc.pl.highly_variable_genes(adata, show=False)\n",
    "plt.savefig(\"results/plots/ag_highly_variable_genes.png\", dpi=300)\n",
    "plt.close()\n",
    "\n",
    "adata = adata[:, adata.var['highly_variable']]\n"
   ]
  },
  {
   "cell_type": "code",
   "execution_count": null,
   "id": "017a226e-363f-4041-8007-dc3c63247c74",
   "metadata": {},
   "outputs": [],
   "source": [
    "# PCA\n",
    "sc.tl.pca(adata, svd_solver='arpack')\n",
    "sc.pl.pca_variance_ratio(adata, log=True, n_pcs=50, show=False)\n",
    "plt.savefig(\"results/plots/ag_pca_variance_ratio.png\", dpi=300)\n",
    "plt.close()\n"
   ]
  },
  {
   "cell_type": "code",
   "execution_count": 24,
   "id": "d446c196-fe54-4605-b622-67aa5126c004",
   "metadata": {},
   "outputs": [],
   "source": [
    "# Clustering with Multiple Resolutions\n",
    "sc.pp.neighbors(adata, n_neighbors=10, n_pcs=40)\n",
    "\n",
    "for res in [0.3, 0.5, 0.8]:\n",
    "    sc.tl.leiden(adata, resolution=res, key_added=f'leiden_{res}')\n",
    "    sc.tl.umap(adata)\n",
    "    sc.pl.umap(adata, color=f'leiden_{res}', title=f\"Leiden Clusters (res={res})\", show=False)\n",
    "    plt.savefig(f\"results/plots/ag_umap_leiden_{res}.png\", dpi=300)\n",
    "    plt.close()\n",
    "\n",
    "# Choose best resolution and continue\n",
    "adata.obs['leiden'] = adata.obs['leiden_0.5']\n"
   ]
  },
  {
   "cell_type": "code",
   "execution_count": null,
   "id": "ab1d310e-9708-4da7-9b9a-376ed5f7f5ca",
   "metadata": {},
   "outputs": [],
   "source": [
    "# Marker Genes per Cluster\n",
    "sc.tl.rank_genes_groups(adata, groupby='leiden', method='wilcoxon')\n",
    "sc.pl.rank_genes_groups(adata, n_genes=10, sharey=False, show=False)\n",
    "plt.savefig(\"results/plots/ag_top_marker_genes_per_cluster.png\", dpi=300)\n",
    "plt.close()\n",
    "\n",
    "# Save top 3 genes per cluster\n",
    "result = adata.uns['rank_genes_groups']\n",
    "groups = result['names'].dtype.names\n",
    "top_genes_df = pd.DataFrame({group: result['names'][group][:3] for group in groups})\n",
    "top_genes_df.to_csv(\"results/files/ag_top_marker_genes.csv\")\n",
    "display(top_genes_df)\n"
   ]
  },
  {
   "cell_type": "code",
   "execution_count": 26,
   "id": "0b59f179-d554-468d-b622-f77222f1b20f",
   "metadata": {},
   "outputs": [],
   "source": [
    "# Marker Gene UMAP Expression\n",
    "top_markers = top_genes_df.values.flatten()\n",
    "top_markers = list(set(top_markers))  # Remove duplicates\n",
    "sc.pl.umap(adata, color=top_markers, ncols=3, show=False)\n",
    "plt.savefig(\"results/plots/ag_umap_marker_gene_expression.png\", dpi=300)\n",
    "plt.close()\n"
   ]
  },
  {
   "cell_type": "code",
   "execution_count": 27,
   "id": "148723c2-4126-45fc-a329-7bb5abaf6148",
   "metadata": {},
   "outputs": [],
   "source": [
    "\n",
    "# Mito Quality Check by Cluster\n",
    "sc.pl.violin(\n",
    "    adata,\n",
    "    ['n_counts', 'n_genes_by_counts', 'pct_counts_mt'],\n",
    "    groupby='leiden',\n",
    "    stripplot=False,\n",
    "    show=False\n",
    ")\n",
    "plt.savefig(\"results/plots/ag_qc_metrics_by_cluster.png\", dpi=300)\n",
    "plt.close()"
   ]
  },
  {
   "cell_type": "code",
   "execution_count": 28,
   "id": "48943c43-ed56-4912-8435-d94492486747",
   "metadata": {},
   "outputs": [],
   "source": [
    "# Manual Cell Type Annotation\n",
    "cluster_labels = {\n",
    "    \"0\": \"Naive T cells\",\n",
    "    \"1\": \"Monocytes\",\n",
    "    \"2\": \"Cytotoxic T/NK\",\n",
    "    \"3\": \"Memory T cells\",\n",
    "    \"4\": \"Dendritic cells\",\n",
    "    \"5\": \"B cells\",\n",
    "    \"6\": \"Monocytes / Neutrophils\",\n",
    "    \"7\": \"NK cells\",\n",
    "    \"8\": \"Mito-rich/Unknown\",  # (speculation) flag for investigation \n",
    "    \"9\": \"pDCs or DC subtype\"\n",
    "}\n",
    "adata.obs['cell_type'] = adata.obs['leiden'].map(cluster_labels)"
   ]
  },
  {
   "cell_type": "code",
   "execution_count": 29,
   "id": "ca517781-b640-4dfe-bf34-c1fb8a4255d6",
   "metadata": {},
   "outputs": [],
   "source": [
    "# Annotated UMAP\n",
    "sc.pl.umap(adata, color='cell_type', legend_loc='on data', title=\"Cell Type Annotations\", show=False)\n",
    "plt.savefig(\"results/plots/ag_umap_cell_type_annotations.png\", dpi=300)\n",
    "plt.close()"
   ]
  },
  {
   "cell_type": "code",
   "execution_count": 30,
   "id": "c7835d5a-0297-4f29-a95f-adf290da2522",
   "metadata": {},
   "outputs": [],
   "source": [
    "# Cell Type Proportions\n",
    "cell_counts = adata.obs['cell_type'].value_counts(normalize=True).sort_index()\n",
    "plt.figure(figsize=(8, 4))\n",
    "sns.barplot(x=cell_counts.index, y=cell_counts.values)\n",
    "plt.xticks(rotation=90)\n",
    "plt.ylabel(\"Proportion\")\n",
    "plt.title(\"Cell Type Proportions\")\n",
    "plt.tight_layout()\n",
    "plt.savefig(\"results/plots/ag_cell_type_proportions.png\", dpi=300)\n",
    "plt.close()\n"
   ]
  },
  {
   "cell_type": "code",
   "execution_count": 31,
   "id": "dac27771-1e3a-441e-874b-981d7566d620",
   "metadata": {},
   "outputs": [],
   "source": [
    "\n",
    "# Save Annotated Dataset\n",
    "adata.write(\"results/files/ag_rna_annotated.h5ad\")\n",
    "\n",
    "# Also save useful metadata for ML downstream\n",
    "adata.obs[['leiden', 'cell_type']].to_csv(\"results/files/ag_rna_labels.csv\")\n",
    "pd.DataFrame(adata.obsm['X_pca'], index=adata.obs_names).to_csv(\"results/files/ag_rna_pca.csv\")\n",
    "pd.DataFrame(adata.obsm['X_umap'], index=adata.obs_names).to_csv(\"results/files/ag_rna_umap.csv\")"
   ]
  },
  {
   "cell_type": "code",
   "execution_count": null,
   "id": "4e706e00-3fbc-465c-bee2-c5a8696ec357",
   "metadata": {},
   "outputs": [],
   "source": []
  },
  {
   "cell_type": "code",
   "execution_count": 32,
   "id": "44bd02c0-4229-4c74-a662-545588f8fd8d",
   "metadata": {},
   "outputs": [],
   "source": [
    "\n",
    "# Cluster 8 was characterized by high mitochondrial gene content and low gene complexity, a signature of apoptotic or dying cells. \n",
    "# These are often excluded from downstream biological and ML analyses to avoid noise from low-quality data.\n",
    "\n",
    "import scanpy as sc\n",
    "\n",
    "# Load the previously annotated RNA data\n",
    "adata_annotated = sc.read_h5ad(\"results/files/ag_rna_annotated.h5ad\")\n",
    "\n",
    "# Remove Cluster 8\n",
    "adata_cleaned = adata_annotated[adata_annotated.obs['leiden'] != '8'].copy()\n",
    "\n",
    "#  drop unused categories to clean up metadata\n",
    "adata_cleaned.obs['leiden'] = adata_cleaned.obs['leiden'].cat.remove_unused_categories()\n",
    "adata_cleaned.obs['cell_type'] = adata_cleaned.obs['cell_type'].cat.remove_unused_categories()\n",
    "\n",
    "# Save the cleaned file\n",
    "adata_cleaned.write(\"results/files/ag_rna_annotated_cleaned.h5ad\")\n"
   ]
  },
  {
   "cell_type": "code",
   "execution_count": 33,
   "id": "32aeb5a3-2644-455c-bd53-0c373108f94d",
   "metadata": {},
   "outputs": [],
   "source": [
    "# visualize the cleaned UMAP (after removing Cluster 8) with resolution 0.5\n",
    "\n",
    "# Re-compute neighbors and Leiden clustering at resolution=0.5\n",
    "sc.pp.neighbors(adata_cleaned, n_neighbors=10, n_pcs=40)\n",
    "sc.tl.leiden(adata_cleaned, resolution=0.5, key_added=\"leiden_0.5\")\n",
    "\n",
    "adata_cleaned.obs['leiden'] = adata_cleaned.obs['leiden_0.5']\n",
    "\n",
    "# Annotate clusters based on chosen resolution\n",
    "cluster_labels_05 = {\n",
    "    \"0\": \"Naive T cells\",\n",
    "    \"1\": \"Monocytes\",\n",
    "    \"2\": \"Cytotoxic T/NK\",\n",
    "    \"3\": \"Memory T cells\",\n",
    "    \"4\": \"Dendritic cells\",\n",
    "    \"5\": \"B cells\",\n",
    "    \"6\": \"Monocytes / Neutrophils\",\n",
    "    \"7\": \"NK cells\",\n",
    "    \"9\": \"pDCs or DC subtype\"\n",
    "}\n",
    "adata_cleaned.obs['cell_type'] = adata_cleaned.obs['leiden'].map(cluster_labels_05)\n",
    "\n",
    "# Drop categories to clean metadata\n",
    "adata_cleaned.obs['leiden'] = adata_cleaned.obs['leiden'].astype(\"category\")\n",
    "adata_cleaned.obs['cell_type'] = adata_cleaned.obs['cell_type'].astype(\"category\")\n",
    "\n",
    "# Save updated object\n",
    "adata_cleaned.write(\"results/files/ag_rna_final_cleaned_annotated.h5ad\")\n",
    "\n",
    "# Plot final UMAP\n",
    "sc.tl.umap(adata_cleaned) \n",
    "sc.pl.umap(adata_cleaned, color=\"cell_type\", legend_loc=\"on data\", title=\"Final Cell Type Annotations\", show=False)\n",
    "plt.savefig(\"results/plots/ag_umap_final_cell_type_annotations.png\", dpi=300)\n",
    "plt.close()"
   ]
  },
  {
   "cell_type": "code",
   "execution_count": null,
   "id": "436000a2-12de-4dbe-a41a-24360e6638fe",
   "metadata": {},
   "outputs": [],
   "source": []
  }
 ],
 "metadata": {
  "kernelspec": {
   "display_name": "Python 3 (ipykernel)",
   "language": "python",
   "name": "python3"
  },
  "language_info": {
   "codemirror_mode": {
    "name": "ipython",
    "version": 3
   },
   "file_extension": ".py",
   "mimetype": "text/x-python",
   "name": "python",
   "nbconvert_exporter": "python",
   "pygments_lexer": "ipython3",
   "version": "3.12.2"
  }
 },
 "nbformat": 4,
 "nbformat_minor": 5
}
