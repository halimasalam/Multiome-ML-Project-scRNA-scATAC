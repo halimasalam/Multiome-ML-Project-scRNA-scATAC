{
 "cells": [
  {
   "cell_type": "code",
   "execution_count": null,
   "id": "dbb65c6e-d61a-41c8-bc48-6a9af9e5aef3",
   "metadata": {},
   "outputs": [],
   "source": [
    "# Gene Activity Matrix Construction & Comparison"
   ]
  },
  {
   "cell_type": "code",
   "execution_count": 5,
   "id": "abd85971-3ca4-4ffa-9304-d4172c9ae397",
   "metadata": {},
   "outputs": [],
   "source": [
    "import os\n",
    "import pandas as pd\n",
    "import numpy as np\n",
    "import anndata as ad\n",
    "import scanpy as sc\n",
    "import pyranges as pr\n",
    "import matplotlib.pyplot as plt\n",
    "from scipy.sparse import csr_matrix\n",
    "import seaborn as sns"
   ]
  },
  {
   "cell_type": "code",
   "execution_count": 6,
   "id": "f8ca071d-11f2-417f-9ab2-025b52be639a",
   "metadata": {},
   "outputs": [],
   "source": [
    "# Load filtered RNA and ATAC AnnData objects\n",
    "rna_adata = ad.read_h5ad(\"results/files/ag_rna_annotated_cleaned.h5ad\")\n",
    "atac_adata = ad.read_h5ad(\"results/files/ag_atac_matrix.h5ad\")\n",
    "\n",
    "# Load peak BED file with peak_id column (consistent with atac_adata.var_names)\n",
    "bed_df = pd.read_csv(\"data/10k_PBMC_Multiome_nextgem_Chromium_X_atac_peaks.bed\", sep=\"\\t\", comment=\"#\", header=None)\n",
    "bed_df.columns = ['Chromosome', 'Start', 'End']\n",
    "bed_df['peak_id'] = [f\"peak_{i}\" for i in range(len(bed_df))]\n",
    "\n",
    "# Prepare TSS ±2kb gene regions\n",
    "gtf = pr.read_gtf(\"data/gencode.v43.annotation.gtf\")\n",
    "genes = gtf[gtf.Feature == \"gene\"]\n",
    "genes = genes[['Chromosome', 'Start', 'End', 'Strand', 'gene_name']]\n",
    "genes.Start -= 2000\n",
    "genes.End += 2000\n",
    "\n",
    "# Overlap peaks with gene regions\n",
    "peaks_pr = pr.PyRanges(bed_df)\n",
    "genes_pr = genes\n",
    "overlap = peaks_pr.join(genes_pr, apply_strand_suffix=False)\n",
    "peak_gene_df = overlap.df[['peak_id', 'gene_name']]\n",
    "\n"
   ]
  },
  {
   "cell_type": "code",
   "execution_count": null,
   "id": "ae09c509-0581-4805-a66c-c6bae991dd5e",
   "metadata": {},
   "outputs": [],
   "source": [
    "# Construct Gene Activity Matrix\n",
    "peak_id_to_idx = {peak: idx for idx, peak in enumerate(atac_adata.var_names)}\n",
    "gene_to_peak_idx = {}\n",
    "for row in peak_gene_df.itertuples(index=False):\n",
    "    peak_id, gene = row.peak_id, row.gene_name\n",
    "    idx = peak_id_to_idx.get(peak_id)\n",
    "    if idx is not None:\n",
    "        gene_to_peak_idx.setdefault(gene, []).append(idx)\n",
    "\n",
    "num_cells = atac_adata.shape[0]\n",
    "genes_list = list(gene_to_peak_idx.keys())\n",
    "X_gene_activity = np.zeros((len(genes_list), num_cells))\n",
    "\n",
    "for i, gene in enumerate(genes_list):\n",
    "    peak_idxs = gene_to_peak_idx[gene]\n",
    "    if peak_idxs:\n",
    "        X_gene_activity[i, :] = atac_adata.X[:, peak_idxs].sum(axis=1).A1\n",
    "\n",
    "# Create AnnData object for gene activity\n",
    "gene_activity_adata = ad.AnnData(\n",
    "    X=csr_matrix(X_gene_activity.T),\n",
    "    obs=atac_adata.obs.copy(),\n",
    "    var=pd.DataFrame(index=genes_list)\n",
    ")\n",
    "\n",
    "# Normalize and log1p\n",
    "sc.pp.normalize_total(gene_activity_adata, target_sum=1e4)\n",
    "sc.pp.log1p(gene_activity_adata)\n",
    "\n",
    "# Match gene activity cells to RNA cells\n",
    "gene_activity_adata = gene_activity_adata[rna_adata.obs_names]\n",
    "assert all(gene_activity_adata.obs_names == rna_adata.obs_names)\n",
    "\n",
    "# Copy cell types\n",
    "gene_activity_adata.obs[\"cell_type\"] = rna_adata.obs[\"cell_type\"]\n",
    "\n",
    "# Save gene activity matrix\n",
    "gene_activity_adata.write(\"results/files/ag_gene_activity.h5ad\")\n"
   ]
  },
  {
   "cell_type": "code",
   "execution_count": 8,
   "id": "39f3117b-accb-446e-b8f4-425174fbea8b",
   "metadata": {},
   "outputs": [
    {
     "data": {
      "text/plain": [
       "<Figure size 640x480 with 0 Axes>"
      ]
     },
     "metadata": {},
     "output_type": "display_data"
    },
    {
     "data": {
      "text/plain": [
       "<Figure size 640x480 with 0 Axes>"
      ]
     },
     "metadata": {},
     "output_type": "display_data"
    }
   ],
   "source": [
    "# Violin plot for one gene\n",
    "gene = \"INPP4B\"\n",
    "fig = plt.figure(constrained_layout=True)\n",
    "sc.pl.violin(rna_adata, keys=gene, groupby=\"cell_type\", show=False)\n",
    "plt.title(f\"RNA: {gene}\")\n",
    "plt.xticks(rotation=90)\n",
    "plt.savefig(\"results/plots/ag_INPP4B_rna.png\", dpi=300)\n",
    "plt.close()\n",
    "\n",
    "fig = plt.figure(constrained_layout=True)\n",
    "sc.pl.violin(gene_activity_adata, keys=gene, groupby=\"cell_type\", show=False)\n",
    "plt.title(f\"ATAC Activity: {gene}\")\n",
    "plt.xticks(rotation=90)\n",
    "plt.savefig(\"results/plots/ag_INPP4B_atac.png\", dpi=300)\n",
    "plt.close()\n",
    "\n"
   ]
  },
  {
   "cell_type": "code",
   "execution_count": 9,
   "id": "b2f96e18-e371-432d-8e44-de25f6598b9f",
   "metadata": {},
   "outputs": [],
   "source": [
    "# Combined Violin Plot for Marker Genes\n",
    "marker_genes = [\"INPP4B\", \"VCAN\", \"CCL5\", \"CST3\", \"BANK1\", \"GNLY\"]\n",
    "all_data = []\n",
    "\n",
    "for gene in marker_genes:\n",
    "    rna_vals = rna_adata[:, gene].X.toarray().flatten()\n",
    "    atac_vals = gene_activity_adata[:, gene].X.toarray().flatten()\n",
    "\n",
    "    rna_df = pd.DataFrame({\"value\": rna_vals, \"cell_type\": rna_adata.obs['cell_type'].values, \"gene\": gene, \"modality\": \"RNA\"})\n",
    "    atac_df = pd.DataFrame({\"value\": atac_vals, \"cell_type\": gene_activity_adata.obs['cell_type'].values, \"gene\": gene, \"modality\": \"ATAC\"})\n",
    "\n",
    "    all_data.extend([rna_df, atac_df])\n",
    "\n",
    "combined_df = pd.concat(all_data)\n",
    "sns.set(style=\"whitegrid\")\n",
    "for gene in marker_genes:\n",
    "    plt.figure(figsize=(10, 5))\n",
    "    sns.violinplot(\n",
    "        data=combined_df[combined_df[\"gene\"] == gene],\n",
    "        x=\"cell_type\", y=\"value\", hue=\"modality\",\n",
    "        split=True, inner=\"quart\", palette=\"Set2\"\n",
    "    )\n",
    "    plt.xticks(rotation=45, ha=\"right\")\n",
    "    plt.title(f\"{gene}: RNA Expression vs ATAC Activity\")\n",
    "    plt.ylabel(\"Signal\")\n",
    "    plt.xlabel(\"Cell Type\")\n",
    "    plt.tight_layout()\n",
    "    plt.legend(title=\"Modality\", loc=\"upper right\")\n",
    "    plt.savefig(f\"results/plots/ag_{gene}_combined_violin.png\")\n",
    "    plt.close()"
   ]
  },
  {
   "cell_type": "code",
   "execution_count": null,
   "id": "09746cce-1240-461a-958f-305f9358fd30",
   "metadata": {},
   "outputs": [],
   "source": [
    "# Heatmap for RNA and ATAC\n",
    "summary = []\n",
    "for gene in marker_genes:\n",
    "    for cell_type in rna_adata.obs['cell_type'].unique():\n",
    "        rna_mean = rna_adata[rna_adata.obs['cell_type'] == cell_type][:, gene].X.mean()\n",
    "        atac_mean = gene_activity_adata[gene_activity_adata.obs['cell_type'] == cell_type][:, gene].X.mean()\n",
    "        summary.append([gene, cell_type, rna_mean, atac_mean])\n",
    "\n",
    "summary_df = pd.DataFrame(summary, columns=[\"gene\", \"cell_type\", \"RNA\", \"ATAC\"])\n",
    "\n",
    "# Heatmaps\n",
    "plt.figure(figsize=(10, 6))\n",
    "sns.heatmap(summary_df.pivot(index=\"gene\", columns=\"cell_type\", values=\"RNA\"), cmap=\"Blues\", annot=True, fmt=\".2f\")\n",
    "plt.title(\"RNA Expression per Cell Type\")\n",
    "plt.tight_layout()\n",
    "plt.savefig(\"results/plots/ag_rna_heatmap.png\")\n",
    "plt.show()\n",
    "\n",
    "plt.figure(figsize=(10, 6))\n",
    "sns.heatmap(summary_df.pivot(index=\"gene\", columns=\"cell_type\", values=\"ATAC\"), cmap=\"Greens\", annot=True, fmt=\".2f\")\n",
    "plt.title(\"ATAC Gene Activity per Cell Type\")\n",
    "plt.tight_layout()\n",
    "plt.savefig(\"results/plots/ag_atac_heatmap.png\")\n",
    "plt.show()"
   ]
  },
  {
   "cell_type": "code",
   "execution_count": null,
   "id": "f9b66554-5315-4154-8595-86a298122365",
   "metadata": {},
   "outputs": [],
   "source": []
  }
 ],
 "metadata": {
  "kernelspec": {
   "display_name": "Python 3 (ipykernel)",
   "language": "python",
   "name": "python3"
  },
  "language_info": {
   "codemirror_mode": {
    "name": "ipython",
    "version": 3
   },
   "file_extension": ".py",
   "mimetype": "text/x-python",
   "name": "python",
   "nbconvert_exporter": "python",
   "pygments_lexer": "ipython3",
   "version": "3.12.2"
  }
 },
 "nbformat": 4,
 "nbformat_minor": 5
}
